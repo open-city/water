{
 "metadata": {
  "name": "",
  "signature": "sha256:851e5b6ec335f514653c577947054ef4df8c8f7588176d9de8514f044255a508"
 },
 "nbformat": 3,
 "nbformat_minor": 0,
 "worksheets": [
  {
   "cells": [
    {
     "cell_type": "code",
     "collapsed": false,
     "input": [
      "import re\n",
      "with open('../../data/noaa_stations/noaa_data.txt', 'r') as f:\n",
      "    read_data = f.read()"
     ],
     "language": "python",
     "metadata": {},
     "outputs": [],
     "prompt_number": 44
    },
    {
     "cell_type": "code",
     "collapsed": false,
     "input": [
      "stations = read_data.split(\"\\n\")"
     ],
     "language": "python",
     "metadata": {},
     "outputs": [],
     "prompt_number": 15
    },
    {
     "cell_type": "code",
     "collapsed": false,
     "input": [
      "noaa_list = ['ORD', 'MDW', 'IGQ', 'ARR', 'PWK', 'LOT', 'UGN', 'DPA']\n",
      "noaa_list = ['K' + code for code in noaa_list]"
     ],
     "language": "python",
     "metadata": {},
     "outputs": [
      {
       "metadata": {},
       "output_type": "pyout",
       "prompt_number": 79,
       "text": [
        "0"
       ]
      }
     ],
     "prompt_number": 79
    },
    {
     "cell_type": "code",
     "collapsed": false,
     "input": [
      "noaa_dict = dict()\n",
      "for code in noaa_list:\n",
      "    for station in stations:\n",
      "        if station[0:4] == code:\n",
      "            noaa_dict[code] = station\n",
      "            break    \n",
      "print(noaa_dict)"
     ],
     "language": "python",
     "metadata": {},
     "outputs": [
      {
       "output_type": "stream",
       "stream": "stdout",
       "text": [
        "{'KARR': 'KARR;--;---;CHICAGO AURORA MUNICIPAL;IL;United States;4;41-46N;088-28W;41-46-05N;088-27-57W;217;215;', 'KPWK': 'KPWK;--;---;CHICAGO EXECUTIVE AIRPORT;IL;United States;4;42-07N;087-54W;42-06-37N;087-54-11W;197;203;', 'KORD': \"KORD;72;530;CHICAGO O'HARE INTERNATIONAL;IL;United States;4;41-59N;087-55W;42-00N;087-53W;204;200;\", 'KIGQ': 'KIGQ;--;---;Chicago, Lansing Municipal Airport;IL;United States;4;41-32-24N;087-31-56W;;;188;;', 'KMDW': 'KMDW;72;534;CHICAGO MIDWAY AIRPORT;IL;United States;4;41-47N;087-45W;41-46-49N;087-45-08W;189;188;', 'KDPA': 'KDPA;--;---;CHICAGO/WEST CH DUPAGE;IL;United States;4;41-54N;88-15W;41-54-24N;088-15-20W;231;230;', 'KUGN': 'KUGN;--;---;CHICAGO/WAUKEGAN REGIONAL;IL;United States;4;42-25N;087-52W;;;222;;', 'KLOT': 'KLOT;--;---;Chicago/Romeoville, Lewis University Airport;IL;United States;4;41-36-30N;088-05-39W;;;205;;'}\n"
       ]
      }
     ],
     "prompt_number": 31
    },
    {
     "cell_type": "code",
     "collapsed": false,
     "input": [
      "noaa_dict.keys()"
     ],
     "language": "python",
     "metadata": {},
     "outputs": [
      {
       "metadata": {},
       "output_type": "pyout",
       "prompt_number": 32,
       "text": [
        "['KARR', 'KPWK', 'KORD', 'KIGQ', 'KMDW', 'KDPA', 'KUGN', 'KLOT']"
       ]
      }
     ],
     "prompt_number": 32
    },
    {
     "cell_type": "code",
     "collapsed": false,
     "input": [
      "lat_long_dict = dict()\n",
      "for key in noaa_dict:\n",
      "    the_data = noaa_dict[key].split(';')\n",
      "    n_lat = [re.match('.+[0-9]+N', datum) for datum in the_data if re.match('.+[0-9]+N', datum)]\n",
      "    n_lat = n_lat[0].group(0)\n",
      "    w_lat = [re.match('.+[0-9]+W', datum) for datum in the_data if re.match('.+[0-9]+W', datum)]\n",
      "    w_lat = w_lat[0].group(0)\n",
      "    lat_list = []\n",
      "    for lat_comp in [n_lat, w_lat]:\n",
      "        lat_num = 0\n",
      "        for i, lat_place in enumerate(lat_comp[:-1].split('-')):\n",
      "            lat_num += float(lat_place) / 60 ** i\n",
      "        lat_list.append(lat_num)            \n",
      "    lat_long_dict[key] = tuple(lat_list)\n",
      "lat_long_dict"
     ],
     "language": "python",
     "metadata": {},
     "outputs": [
      {
       "metadata": {},
       "output_type": "pyout",
       "prompt_number": 78,
       "text": [
        "{'KARR': (41.766666666666666, 88.46666666666667),\n",
        " 'KDPA': (41.9, 88.25),\n",
        " 'KIGQ': (41.54, 87.53222222222222),\n",
        " 'KLOT': (41.608333333333334, 88.09416666666667),\n",
        " 'KMDW': (41.78333333333333, 87.75),\n",
        " 'KORD': (41.983333333333334, 87.91666666666667),\n",
        " 'KPWK': (42.11666666666667, 87.9),\n",
        " 'KUGN': (42.416666666666664, 87.86666666666666)}"
       ]
      }
     ],
     "prompt_number": 78
    },
    {
     "cell_type": "code",
     "collapsed": true,
     "input": [
      "# wzl = ['adf', 'snehfkj', 'sdfoh']\n",
      "# for i, j in enumerate(wzl):\n",
      "#     print i\n",
      "#     print j\n"
     ],
     "language": "python",
     "metadata": {},
     "outputs": [
      {
       "output_type": "stream",
       "stream": "stdout",
       "text": [
        "0\n",
        "adf\n",
        "1\n",
        "snehfkj\n",
        "2\n",
        "sdfoh\n"
       ]
      }
     ],
     "prompt_number": 74
    }
   ],
   "metadata": {}
  }
 ]
}